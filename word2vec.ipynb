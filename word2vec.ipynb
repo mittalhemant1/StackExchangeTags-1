{
 "cells": [
  {
   "cell_type": "code",
   "execution_count": 1,
   "metadata": {
    "collapsed": true
   },
   "outputs": [],
   "source": [
    "import collections\n",
    "import math\n",
    "import os\n",
    "import random\n",
    "import zipfile\n",
    "\n",
    "import numpy as np\n",
    "from six.moves import urllib\n",
    "from six.moves import xrange  # pylint: disable=redefined-builtin\n",
    "import tensorflow as tf\n"
   ]
  },
  {
   "cell_type": "code",
   "execution_count": 6,
   "metadata": {
    "collapsed": false
   },
   "outputs": [
    {
     "data": {
      "text/plain": [
       "True"
      ]
     },
     "execution_count": 6,
     "metadata": {},
     "output_type": "execute_result"
    }
   ],
   "source": [
    "os.path.exists('text8.zip')"
   ]
  },
  {
   "cell_type": "code",
   "execution_count": null,
   "metadata": {
    "collapsed": false
   },
   "outputs": [],
   "source": []
  },
  {
   "cell_type": "code",
   "execution_count": 7,
   "metadata": {
    "collapsed": true
   },
   "outputs": [],
   "source": [
    "\n",
    "# Step 1: Download the data.\n",
    "url = 'http://mattmahoney.net/dc/'"
   ]
  },
  {
   "cell_type": "code",
   "execution_count": 8,
   "metadata": {
    "collapsed": true
   },
   "outputs": [],
   "source": [
    "def maybe_download(filename, expected_bytes):\n",
    "  \"\"\"Download a file if not present, and make sure it's the right size.\"\"\"\n",
    "  if not os.path.exists(filename):\n",
    "    filename, _ = urllib.request.urlretrieve(url + filename, filename)\n",
    "  statinfo = os.stat(filename)\n",
    "  if statinfo.st_size == expected_bytes:\n",
    "    print('Found and verified', filename)\n",
    "  else:\n",
    "    print(statinfo.st_size)\n",
    "    raise Exception(\n",
    "        'Failed to verify ' + filename + '. Can you get to it with a browser?')\n",
    "  return filename"
   ]
  },
  {
   "cell_type": "code",
   "execution_count": 9,
   "metadata": {
    "collapsed": false
   },
   "outputs": [
    {
     "name": "stdout",
     "output_type": "stream",
     "text": [
      "Found and verified text8.zip\n"
     ]
    }
   ],
   "source": [
    "filename = maybe_download('text8.zip', 31344016)"
   ]
  },
  {
   "cell_type": "code",
   "execution_count": 10,
   "metadata": {
    "collapsed": true
   },
   "outputs": [],
   "source": [
    "def read_data(filename):\n",
    "  \"\"\"Extract the first file enclosed in a zip file as a list of words\"\"\"\n",
    "  with zipfile.ZipFile(filename) as f:\n",
    "    data = tf.compat.as_str(f.read(f.namelist()[0])).split()\n",
    "  return data\n"
   ]
  },
  {
   "cell_type": "code",
   "execution_count": 11,
   "metadata": {
    "collapsed": false
   },
   "outputs": [
    {
     "name": "stdout",
     "output_type": "stream",
     "text": [
      "Data size 17005207\n"
     ]
    }
   ],
   "source": [
    "words = read_data(filename)\n",
    "print('Data size', len(words))"
   ]
  },
  {
   "cell_type": "code",
   "execution_count": 12,
   "metadata": {
    "collapsed": true
   },
   "outputs": [],
   "source": [
    "vocabulary_size = 50000"
   ]
  },
  {
   "cell_type": "code",
   "execution_count": 13,
   "metadata": {
    "collapsed": true
   },
   "outputs": [],
   "source": [
    "count = [['UNK', -1]]"
   ]
  },
  {
   "cell_type": "code",
   "execution_count": 22,
   "metadata": {
    "collapsed": true
   },
   "outputs": [],
   "source": [
    "def build_dataset(words, vocabulary_size):\n",
    "    count = [['UNK', -1]]\n",
    "    count.extend(collections.Counter(words).most_common(vocabulary_size - 1))\n",
    "    dictionary = dict()\n",
    "    for word, _ in count:\n",
    "        dictionary[word] = len(dictionary)\n",
    "    data = list()\n",
    "    unk_count = 0\n",
    "    for word in words:\n",
    "        if word in dictionary:\n",
    "            index = dictionary[word]\n",
    "        else:\n",
    "            index = 0  # dictionary['UNK']\n",
    "            unk_count += 1\n",
    "        data.append(index)\n",
    "    count[0][1] = unk_count\n",
    "    reverse_dictionary = dict(zip(dictionary.values(), dictionary.keys()))\n",
    "    return data, count, dictionary, reverse_dictionary\n"
   ]
  },
  {
   "cell_type": "code",
   "execution_count": 23,
   "metadata": {
    "collapsed": false
   },
   "outputs": [],
   "source": [
    "data, count, dictionary, reverse_dictionary = build_dataset(words, vocabulary_size)\n",
    "del words"
   ]
  },
  {
   "cell_type": "code",
   "execution_count": 24,
   "metadata": {
    "collapsed": false
   },
   "outputs": [
    {
     "name": "stdout",
     "output_type": "stream",
     "text": [
      "Most common words (+UNK) [['UNK', 418391], ('the', 1061396), ('of', 593677), ('and', 416629), ('one', 411764)]\n",
      "Sample data [5242, 3082, 12, 6, 195, 2, 3136, 46, 59, 156] ['anarchism', 'originated', 'as', 'a', 'term', 'of', 'abuse', 'first', 'used', 'against']\n"
     ]
    }
   ],
   "source": [
    "print('Most common words (+UNK)', count[:5])\n",
    "print('Sample data', data[:10], [reverse_dictionary[i] for i in data[:10]])\n"
   ]
  },
  {
   "cell_type": "code",
   "execution_count": 29,
   "metadata": {
    "collapsed": true
   },
   "outputs": [],
   "source": [
    "data_index = 0\n"
   ]
  },
  {
   "cell_type": "code",
   "execution_count": 30,
   "metadata": {
    "collapsed": true
   },
   "outputs": [],
   "source": [
    "def generate_batch(batch_size, num_skips, skip_window):\n",
    "    global data_index\n",
    "    assert batch_size % num_skips == 0\n",
    "    assert num_skips <= 2 * skip_window\n",
    "    batch = np.ndarray(shape=(batch_size), dtype=np.int32)\n",
    "    labels = np.ndarray(shape=(batch_size, 1), dtype=np.int32)\n",
    "    span = 2 * skip_window + 1  # [ skip_window target skip_window ]\n",
    "    buffer = collections.deque(maxlen=span)\n",
    "    for _ in range(span): \n",
    "        buffer.append(data[data_index])\n",
    "        data_index = (data_index + 1) % len(data)\n",
    "    for i in range(batch_size // num_skips):\n",
    "        target = skip_window  # target label at the center of the buffer\n",
    "        targets_to_avoid = [skip_window]\n",
    "        for j in range(num_skips):\n",
    "            while target in targets_to_avoid:\n",
    "                target = random.randint(0, span - 1)\n",
    "            targets_to_avoid.append(target)\n",
    "            batch[i * num_skips + j] = buffer[skip_window]\n",
    "            labels[i * num_skips + j, 0] = buffer[target]\n",
    "        buffer.append(data[data_index])\n",
    "        data_index = (data_index + 1) % len(data)\n",
    "    # Backtrack a little bit to avoid skipping words in the end of a batch\n",
    "    data_index = (data_index + len(data) - span) % len(data)\n",
    "    return batch, labels"
   ]
  },
  {
   "cell_type": "code",
   "execution_count": 31,
   "metadata": {
    "collapsed": false
   },
   "outputs": [
    {
     "name": "stdout",
     "output_type": "stream",
     "text": [
      "3082 originated -> 12 as\n",
      "3082 originated -> 5242 anarchism\n",
      "12 as -> 6 a\n",
      "12 as -> 3082 originated\n",
      "6 a -> 12 as\n",
      "6 a -> 195 term\n",
      "195 term -> 2 of\n",
      "195 term -> 6 a\n"
     ]
    }
   ],
   "source": [
    "batch, labels = generate_batch(batch_size=8, num_skips=2, skip_window=1)\n",
    "for i in range(8):\n",
    "    print(batch[i], reverse_dictionary[batch[i]],'->', labels[i, 0], reverse_dictionary[labels[i, 0]])"
   ]
  },
  {
   "cell_type": "code",
   "execution_count": 40,
   "metadata": {
    "collapsed": true
   },
   "outputs": [],
   "source": [
    "batch_size = 128\n",
    "embedding_size = 128  # Dimension of the embedding vector.\n",
    "skip_window = 1       # How many words to consider left and right.\n",
    "num_skips = 2         # How many times to reuse an input to generate a label."
   ]
  },
  {
   "cell_type": "code",
   "execution_count": 41,
   "metadata": {
    "collapsed": true
   },
   "outputs": [],
   "source": [
    "# We pick a random validation set to sample nearest neighbors. Here we limit the\n",
    "# validation samples to the words that have a low numeric ID, which by\n",
    "# construction are also the most frequent.\n",
    "valid_size = 16     # Random set of words to evaluate similarity on.\n",
    "valid_window = 100  # Only pick dev samples in the head of the distribution.\n",
    "valid_examples = np.random.choice(valid_window, valid_size, replace=False)\n",
    "num_sampled = 64    # Number of negative examples to sample."
   ]
  },
  {
   "cell_type": "code",
   "execution_count": 42,
   "metadata": {
    "collapsed": false
   },
   "outputs": [],
   "source": [
    "graph = tf.Graph()"
   ]
  },
  {
   "cell_type": "code",
   "execution_count": 45,
   "metadata": {
    "collapsed": true
   },
   "outputs": [],
   "source": [
    "with graph.as_default():\n",
    "    # Input data.\n",
    "    train_inputs = tf.placeholder(tf.int32, shape=[batch_size])\n",
    "    train_labels = tf.placeholder(tf.int32, shape=[batch_size, 1])\n",
    "    valid_dataset = tf.constant(valid_examples, dtype=tf.int32)\n",
    "\n",
    "    # Ops and variables pinned to the CPU because of missing GPU implementation\n",
    "    with tf.device('/cpu:0'):\n",
    "        # Look up embeddings for inputs.\n",
    "        embeddings = tf.Variable(\n",
    "            tf.random_uniform([vocabulary_size, embedding_size], -1.0, 1.0))\n",
    "        embed = tf.nn.embedding_lookup(embeddings, train_inputs)\n",
    "\n",
    "    # Construct the variables for the NCE loss\n",
    "        nce_weights = tf.Variable(\n",
    "            tf.truncated_normal([vocabulary_size, embedding_size],\n",
    "                                stddev=1.0 / math.sqrt(embedding_size)))\n",
    "        nce_biases = tf.Variable(tf.zeros([vocabulary_size]))\n",
    "\n",
    "    # Compute the average NCE loss for the batch.\n",
    "    # tf.nce_loss automatically draws a new sample of the negative labels each\n",
    "    # time we evaluate the loss.\n",
    "    loss = tf.reduce_mean(\n",
    "          tf.nn.nce_loss(weights=nce_weights,\n",
    "                         biases=nce_biases,\n",
    "                         labels=train_labels,\n",
    "                         inputs=embed,\n",
    "                         num_sampled=num_sampled,\n",
    "                         num_classes=vocabulary_size))\n",
    "\n",
    "    # Construct the SGD optimizer using a learning rate of 1.0.\n",
    "    optimizer = tf.train.GradientDescentOptimizer(1.0).minimize(loss)\n",
    "\n",
    "    # Compute the cosine similarity between minibatch examples and all embeddings.\n",
    "    norm = tf.sqrt(tf.reduce_sum(tf.square(embeddings), 1, keep_dims=True))\n",
    "    normalized_embeddings = embeddings / norm\n",
    "    valid_embeddings = tf.nn.embedding_lookup(\n",
    "        normalized_embeddings, valid_dataset)\n",
    "    similarity = tf.matmul(\n",
    "        valid_embeddings, normalized_embeddings, transpose_b=True)\n",
    "\n",
    "    # Add variable initializer.\n",
    "    init = tf.global_variables_initializer()\n"
   ]
  },
  {
   "cell_type": "code",
   "execution_count": 46,
   "metadata": {
    "collapsed": true
   },
   "outputs": [],
   "source": [
    "num_steps = 100001"
   ]
  },
  {
   "cell_type": "code",
   "execution_count": 48,
   "metadata": {
    "collapsed": false
   },
   "outputs": [
    {
     "name": "stdout",
     "output_type": "stream",
     "text": [
      "Initialized\n",
      "Average loss at step  0 :  273.74029541\n",
      "Nearest to most: congregational, vestibule, estimating, workarounds, duel, sims, handhelds, unjust,\n",
      "Nearest to between: feature, egmont, freak, apes, allowance, ensues, veracity, specie,\n",
      "Nearest to to: haran, complain, excavating, feminism, expeditionary, astaire, explanatory, dolce,\n",
      "Nearest to has: lahore, boastful, batcave, cooker, daleks, lettuce, rushton, volvo,\n",
      "Nearest to of: escu, presupposition, sina, aaron, unproduced, ztt, emu, professionals,\n",
      "Nearest to after: educating, defection, hawker, punished, brahmic, salomon, interpolations, remnant,\n",
      "Nearest to will: reinhold, kossuth, wiltshire, exception, moloch, tormented, superb, bowmen,\n",
      "Nearest to which: halves, bangs, sorted, commence, personifications, kit, angiotensin, hearn,\n",
      "Nearest to state: augustinian, glockenspiel, olivier, identifier, outermost, coherent, italiana, highlanders,\n",
      "Nearest to th: odor, bangladeshi, zoff, cost, greek, camden, gretzky, retires,\n",
      "Nearest to his: interventionist, millionaires, comprising, stirling, barbarians, tijuana, istat, repository,\n",
      "Nearest to when: rite, herbicide, parentage, servant, shrunk, claims, replacing, decomposes,\n",
      "Nearest to use: froissart, subvert, neorealism, schulz, yolande, killers, oases, bel,\n",
      "Nearest to new: tempted, iblis, datagrams, occultism, nou, octets, galatea, barracks,\n",
      "Nearest to five: benhavn, sunlight, sues, recreated, judgment, quickest, greenhouse, spectra,\n",
      "Nearest to over: reinsurance, stored, trajectory, orioles, sealing, australes, amnesia, mohr,\n",
      "Average loss at step  2000 :  113.740956295\n",
      "Average loss at step  4000 :  52.2333911257\n",
      "Average loss at step  6000 :  34.1515248446\n",
      "Average loss at step  8000 :  23.2228279157\n",
      "Average loss at step  10000 :  17.7562442577\n",
      "Nearest to most: duel, unions, estimating, durians, u, daemon, dor, tail,\n",
      "Nearest to between: egmont, feature, corgi, tleilaxu, hello, by, statement, perception,\n",
      "Nearest to to: in, and, variants, township, that, can, for, corporate,\n",
      "Nearest to has: hyperion, hz, is, located, distributism, metadata, township, tommaso,\n",
      "Nearest to of: in, and, for, from, nine, iraqi, with, township,\n",
      "Nearest to after: rfc, police, glands, early, botanical, remnant, scientist, semi,\n",
      "Nearest to will: reinhold, township, exception, determinants, when, dor, instrumental, umayyad,\n",
      "Nearest to which: that, contrabass, this, township, forbids, emperors, halves, stravinsky,\n",
      "Nearest to state: postage, coherent, dor, corgi, identifier, firewalls, republicans, olivier,\n",
      "Nearest to th: nf, one, cost, greek, dayton, dor, nine, fewer,\n",
      "Nearest to his: the, cater, repository, comprising, township, digraph, leaders, shrew,\n",
      "Nearest to when: rite, iv, township, claims, replacing, is, will, clark,\n",
      "Nearest to use: township, bel, speed, rance, dor, apartheid, memorial, killers,\n",
      "Nearest to new: octets, cc, hz, township, note, easier, iblis, baudelaire,\n",
      "Nearest to five: nine, zero, dor, township, hz, one, seven, recreated,\n",
      "Nearest to over: trained, stored, austria, club, falling, township, aphrodite, cocker,\n",
      "Average loss at step  12000 :  14.1182575388\n",
      "Average loss at step  14000 :  11.3922134281\n",
      "Average loss at step  16000 :  9.44707798326\n",
      "Average loss at step  18000 :  8.7183059237\n",
      "Average loss at step  20000 :  8.09605653203\n",
      "Nearest to most: estimating, duel, usaaf, durians, archaeologist, disastrous, tail, unions,\n",
      "Nearest to between: three, by, egmont, for, corgi, perception, hello, tleilaxu,\n",
      "Nearest to to: can, variants, township, and, for, in, with, nine,\n",
      "Nearest to has: is, had, have, hyperion, daleks, into, hz, was,\n",
      "Nearest to of: in, and, for, smells, from, nine, township, illyricum,\n",
      "Nearest to after: in, rfc, educating, early, kendall, glands, remnant, police,\n",
      "Nearest to will: reinhold, can, township, to, umayyad, when, exception, napo,\n",
      "Nearest to which: that, this, and, township, contrabass, dor, cc, forbids,\n",
      "Nearest to state: three, coherent, bigg, olivier, corgi, ensemble, postage, concept,\n",
      "Nearest to th: nf, one, six, four, two, nine, dor, odor,\n",
      "Nearest to his: the, shrew, their, one, leaders, township, salamander, its,\n",
      "Nearest to when: rite, iv, and, township, in, seven, replacing, is,\n",
      "Nearest to use: sisters, bel, killers, township, speed, subvert, rance, apartheid,\n",
      "Nearest to new: cc, hz, octets, township, note, in, easier, baudelaire,\n",
      "Nearest to five: zero, nine, seven, dor, eight, township, four, smells,\n",
      "Nearest to over: two, trained, blackmore, eindhoven, trajectory, falling, club, strokes,\n",
      "Average loss at step  22000 :  7.55528760552\n",
      "Average loss at step  24000 :  6.98346202564\n",
      "Average loss at step  26000 :  6.58911770022\n",
      "Average loss at step  28000 :  6.26389146936\n",
      "Average loss at step  30000 :  5.91757050705\n",
      "Nearest to most: many, durians, duel, disastrous, golgi, usaaf, estimating, archaeologist,\n",
      "Nearest to between: with, for, four, corgi, by, egmont, three, in,\n",
      "Nearest to to: can, will, township, variants, not, for, with, brie,\n",
      "Nearest to has: had, is, have, was, hyperion, daleks, into, being,\n",
      "Nearest to of: in, and, wh, smells, for, nine, township, with,\n",
      "Nearest to after: rfc, in, and, early, kendall, smallpox, defection, remnant,\n",
      "Nearest to will: can, to, would, township, reinhold, may, bytecode, umayyad,\n",
      "Nearest to which: that, this, it, township, brie, phoca, also, contrabass,\n",
      "Nearest to state: coherent, bigg, neutronic, olivier, corgi, aphasia, dor, accurately,\n",
      "Nearest to th: six, nf, four, eight, three, infant, odor, nine,\n",
      "Nearest to his: the, their, its, her, s, shrew, leaders, smells,\n",
      "Nearest to when: iv, township, rite, four, in, seven, zero, and,\n",
      "Nearest to use: sisters, bel, chaining, killers, township, rance, subvert, apartheid,\n",
      "Nearest to new: cc, hz, township, octets, australian, note, polls, easier,\n",
      "Nearest to five: zero, four, seven, eight, six, nine, two, three,\n",
      "Nearest to over: trained, eindhoven, blackmore, aaron, xs, grandson, kiang, into,\n",
      "Average loss at step  32000 :  5.73044458032\n",
      "Average loss at step  34000 :  5.68256221688\n",
      "Average loss at step  36000 :  5.71882696259\n",
      "Average loss at step  38000 :  5.49347551978\n",
      "Average loss at step  40000 :  5.38959127462\n",
      "Nearest to most: many, disastrous, archaeologist, duel, usaaf, estimating, congregational, more,\n",
      "Nearest to between: with, jewell, four, in, three, for, by, eight,\n",
      "Nearest to to: can, for, will, variants, township, not, wh, nine,\n",
      "Nearest to has: had, is, have, was, hyperion, daleks, into, being,\n",
      "Nearest to of: in, for, smells, and, wh, from, nine, township,\n",
      "Nearest to after: in, rfc, kendall, seven, four, when, early, three,\n",
      "Nearest to will: can, would, may, to, imine, reinhold, might, township,\n",
      "Nearest to which: that, this, also, brie, township, it, phoca, requiem,\n",
      "Nearest to state: coherent, bigg, olivier, corgi, aphasia, neutronic, concept, polls,\n",
      "Nearest to th: four, nf, six, eight, odor, nine, zero, seven,\n",
      "Nearest to his: their, its, the, her, shrew, hava, leaders, s,\n",
      "Nearest to when: iv, four, township, and, rite, where, but, falstaff,\n",
      "Nearest to use: sisters, chaining, township, bel, imine, killers, rance, bytecode,\n",
      "Nearest to new: cc, hz, township, australian, polls, octets, imine, note,\n",
      "Nearest to five: eight, six, four, seven, three, nine, two, zero,\n",
      "Nearest to over: into, staple, eindhoven, xs, grandson, trained, blackmore, four,\n",
      "Average loss at step  42000 :  5.71981705356\n",
      "Average loss at step  44000 :  5.2633636446\n",
      "Average loss at step  46000 :  5.21949043608\n",
      "Average loss at step  48000 :  5.18550056684\n",
      "Average loss at step  50000 :  5.06220994925\n",
      "Nearest to most: many, more, archaeologist, disastrous, usaaf, congregational, estimating, taunus,\n",
      "Nearest to between: with, ast, jewell, in, on, by, four, allowance,\n",
      "Nearest to to: for, can, variants, will, nine, township, not, may,\n",
      "Nearest to has: had, have, is, was, hyperion, barb, daleks, township,\n",
      "Nearest to of: in, and, smells, nine, for, sza, eight, six,\n",
      "Nearest to after: in, when, rfc, six, kendall, seven, and, five,\n",
      "Nearest to will: can, would, may, to, might, imine, must, township,\n",
      "Nearest to which: that, this, also, brie, township, phoca, it, what,\n",
      "Nearest to state: modula, coherent, bigg, olivier, corgi, neutronic, aphasia, polls,\n",
      "Nearest to th: six, four, eight, nf, zero, three, seven, nine,\n",
      "Nearest to his: their, its, her, the, s, shrew, hava, leaders,\n",
      "Nearest to when: iv, township, but, seven, is, where, after, if,\n",
      "Nearest to use: sisters, chaining, township, socket, imine, killers, bel, rance,\n",
      "Nearest to new: cc, hz, township, polls, australian, imine, octets, sza,\n",
      "Nearest to five: six, seven, four, eight, three, zero, nine, two,\n",
      "Nearest to over: into, staple, xs, eindhoven, blackmore, monitors, four, around,\n",
      "Average loss at step  52000 :  4.92778908682\n",
      "Average loss at step  54000 :  5.086221439\n",
      "Average loss at step  56000 :  5.10171317577\n",
      "Average loss at step  58000 :  5.06797807503\n",
      "Average loss at step  60000 :  4.98593373191\n",
      "Nearest to most: many, more, disastrous, archaeologist, congregational, schenectady, scottish, promise,\n",
      "Nearest to between: with, ast, jewell, in, on, four, for, allowance,\n",
      "Nearest to to: will, can, for, not, township, nine, must, would,\n",
      "Nearest to has: had, have, was, is, township, daleks, hyperion, stadtbahn,\n",
      "Nearest to of: in, following, wh, smells, illyricum, sza, and, for,\n",
      "Nearest to after: in, when, rfc, kendall, before, during, six, curie,\n",
      "Nearest to will: can, would, may, must, might, to, imine, could,\n",
      "Nearest to which: that, this, what, also, brie, phoca, township, it,\n",
      "Nearest to state: modula, coherent, bigg, olivier, corgi, neutronic, aphasia, dor,\n",
      "Nearest to th: six, nf, zero, four, seven, eight, five, odor,\n",
      "Nearest to his: their, its, her, the, s, shrew, hava, township,\n",
      "Nearest to when: township, and, if, where, iv, while, but, after,\n",
      "Nearest to use: chaining, killers, sisters, township, imine, socket, rance, prespa,\n",
      "Nearest to new: australian, polls, hz, cc, octets, township, cis, ssr,\n",
      "Nearest to five: four, six, three, seven, eight, zero, two, nine,\n",
      "Nearest to over: into, around, metaxas, xs, staple, monitors, amnesia, eindhoven,\n",
      "Average loss at step  62000 :  4.9693253938\n",
      "Average loss at step  64000 :  4.89928067422\n",
      "Average loss at step  66000 :  4.75463525629\n",
      "Average loss at step  68000 :  4.8428072176\n",
      "Average loss at step  70000 :  4.86480266941\n",
      "Nearest to most: many, more, disastrous, dominoes, congregational, taunus, bytecode, schenectady,\n",
      "Nearest to between: with, ast, jewell, four, in, allowance, tleilaxu, six,\n",
      "Nearest to to: will, would, can, should, for, township, variants, through,\n",
      "Nearest to has: had, have, was, is, township, six, daleks, seven,\n",
      "Nearest to of: in, nine, following, sza, eight, wh, for, smells,\n",
      "Nearest to after: when, before, five, in, during, six, rfc, kendall,\n",
      "Nearest to will: can, would, may, must, might, to, could, imine,\n",
      "Nearest to which: that, this, what, also, it, and, township, brie,\n",
      "Nearest to state: modula, bigg, coherent, corgi, neutronic, aphasia, olivier, exploded,\n",
      "Nearest to th: four, six, zero, nine, five, nf, eight, odor,\n",
      "Nearest to his: their, her, its, the, s, shrew, hava, ocs,\n",
      "Nearest to when: if, while, was, after, where, township, but, as,\n",
      "Nearest to use: chaining, killers, township, imine, socket, rance, sisters, prespa,\n",
      "Nearest to new: australian, polls, cc, hz, township, octets, cis, following,\n",
      "Nearest to five: six, four, three, seven, eight, zero, nine, two,\n",
      "Nearest to over: into, around, metaxas, staple, amnesia, monitors, eindhoven, xs,\n",
      "Average loss at step  72000 :  4.83267369735\n",
      "Average loss at step  74000 :  4.80423196065\n",
      "Average loss at step  76000 :  4.84976831329\n",
      "Average loss at step  78000 :  4.76469166243\n",
      "Average loss at step  80000 :  4.79793600762\n",
      "Nearest to most: more, many, handfasting, dominoes, promise, taunus, schenectady, some,\n",
      "Nearest to between: with, ast, jewell, in, allowance, on, reflection, tleilaxu,\n",
      "Nearest to to: would, will, landesverband, for, must, not, can, township,\n",
      "Nearest to has: had, have, was, is, landesverband, seven, hyi, stadtbahn,\n",
      "Nearest to of: wh, for, following, nine, smells, in, and, sza,\n",
      "Nearest to after: before, when, during, six, in, five, kendall, sih,\n",
      "Nearest to will: can, would, may, must, might, could, to, should,\n",
      "Nearest to which: that, this, what, also, it, landesverband, brie, phoca,\n",
      "Nearest to state: modula, bigg, coherent, hyi, neutronic, aphasia, olivier, corgi,\n",
      "Nearest to th: four, six, five, nine, nf, zero, seven, hyi,\n",
      "Nearest to his: their, her, its, the, shrew, s, hyi, leaders,\n",
      "Nearest to when: if, while, but, after, where, although, township, falstaff,\n",
      "Nearest to use: chaining, killers, imine, prespa, convent, socket, township, subvert,\n",
      "Nearest to new: australian, polls, cc, township, hz, landesverband, cis, octets,\n",
      "Nearest to five: four, six, three, seven, eight, nine, zero, two,\n",
      "Nearest to over: around, into, metaxas, staple, xs, monitors, amnesia, fudge,\n",
      "Average loss at step  82000 :  4.72016771245\n",
      "Average loss at step  84000 :  4.78654905713\n",
      "Average loss at step  86000 :  4.53470380151\n",
      "Average loss at step  88000 :  4.65431070602\n",
      "Average loss at step  90000 :  4.72439390171\n",
      "Nearest to most: many, more, aosta, some, handfasting, promise, taunus, hyi,\n",
      "Nearest to between: with, ast, in, jewell, six, dubious, tleilaxu, reflection,\n",
      "Nearest to to: would, will, landesverband, can, township, hyi, nine, should,\n",
      "Nearest to has: had, have, was, is, seven, township, stadtbahn, landesverband,\n",
      "Nearest to of: in, following, landesverband, smells, and, for, sza, wh,\n",
      "Nearest to after: before, when, during, in, six, was, kendall, following,\n",
      "Nearest to will: can, would, may, must, could, might, to, should,\n",
      "Nearest to which: that, this, what, also, landesverband, phoca, it, brie,\n",
      "Nearest to state: risotto, coherent, bigg, neutronic, aphasia, modula, hyi, olivier,\n",
      "Nearest to th: five, seven, six, eight, nine, zero, four, nf,\n",
      "Nearest to his: their, her, its, the, shrew, hyi, my, ocs,\n",
      "Nearest to when: if, while, after, where, although, but, six, was,\n",
      "Nearest to use: chaining, killers, subvert, convent, imine, departure, rance, academia,\n",
      "Nearest to new: australian, polls, cc, township, hz, landesverband, octets, following,\n",
      "Nearest to five: four, six, seven, three, eight, zero, nine, two,\n",
      "Nearest to over: around, into, metaxas, staple, xs, monitors, four, bowhunting,\n",
      "Average loss at step  92000 :  4.66137753177\n",
      "Average loss at step  94000 :  4.63188343322\n",
      "Average loss at step  96000 :  4.61360982656\n",
      "Average loss at step  98000 :  4.61812512088\n",
      "Average loss at step  100000 :  4.35828947043\n",
      "Nearest to most: many, more, aosta, some, handfasting, promise, taunus, dominoes,\n",
      "Nearest to between: with, ast, jewell, in, tleilaxu, dubious, reflection, allowance,\n",
      "Nearest to to: would, landesverband, will, township, must, should, hyi, can,\n",
      "Nearest to has: had, have, is, was, seven, stadtbahn, township, hyi,\n",
      "Nearest to of: wh, gly, in, following, township, seven, dor, landesverband,\n",
      "Nearest to after: before, when, during, in, five, six, seven, four,\n",
      "Nearest to will: can, would, may, must, could, might, should, to,\n",
      "Nearest to which: that, this, what, also, landesverband, it, brie, but,\n",
      "Nearest to state: risotto, neutronic, coherent, aphasia, modula, hyi, bigg, corgi,\n",
      "Nearest to th: nf, odor, hyi, seven, eight, four, six, rd,\n",
      "Nearest to his: their, her, its, the, my, shrew, s, hyi,\n",
      "Nearest to when: if, while, after, where, although, four, seven, six,\n",
      "Nearest to use: imine, killers, chaining, socket, subvert, bytecode, rium, township,\n",
      "Nearest to new: australian, polls, cc, township, hz, landesverband, hyi, octets,\n",
      "Nearest to five: seven, four, three, six, eight, nine, zero, two,\n",
      "Nearest to over: around, into, metaxas, xs, staple, amnesia, monitors, attach,\n"
     ]
    }
   ],
   "source": [
    "with tf.Session(graph=graph) as session:\n",
    "    # We must initialize all variables before we use them.\n",
    "    init.run()\n",
    "    print(\"Initialized\")\n",
    "\n",
    "    average_loss = 0\n",
    "    for step in xrange(num_steps):\n",
    "        batch_inputs, batch_labels = generate_batch(\n",
    "            batch_size, num_skips, skip_window)\n",
    "        feed_dict = {train_inputs: batch_inputs, train_labels: batch_labels}\n",
    "\n",
    "        # We perform one update step by evaluating the optimizer op (including it\n",
    "        # in the list of returned values for session.run()\n",
    "        _, loss_val = session.run([optimizer, loss], feed_dict=feed_dict)\n",
    "        average_loss += loss_val\n",
    "\n",
    "        if step % 2000 == 0:\n",
    "            if step > 0:\n",
    "                average_loss /= 2000\n",
    "        # The average loss is an estimate of the loss over the last 2000 batches.\n",
    "            print(\"Average loss at step \", step, \": \", average_loss)\n",
    "            average_loss = 0\n",
    "\n",
    "    # Note that this is expensive (~20% slowdown if computed every 500 steps)\n",
    "        if step % 10000 == 0:\n",
    "            sim = similarity.eval()\n",
    "            for i in xrange(valid_size):\n",
    "                valid_word = reverse_dictionary[valid_examples[i]]\n",
    "                top_k = 8  # number of nearest neighbors\n",
    "                nearest = (-sim[i, :]).argsort()[1:top_k + 1]\n",
    "                log_str = \"Nearest to %s:\" % valid_word\n",
    "                for k in xrange(top_k):\n",
    "                    close_word = reverse_dictionary[nearest[k]]\n",
    "                    log_str = \"%s %s,\" % (log_str, close_word)\n",
    "                print(log_str)\n",
    "    final_embeddings = normalized_embeddings.eval()\n"
   ]
  },
  {
   "cell_type": "code",
   "execution_count": 49,
   "metadata": {
    "collapsed": true
   },
   "outputs": [],
   "source": [
    "def plot_with_labels(low_dim_embs, labels, filename='tsne.png'):\n",
    "    assert low_dim_embs.shape[0] >= len(labels), \"More labels than embeddings\"\n",
    "    plt.figure(figsize=(18, 18))  # in inches\n",
    "    for i, label in enumerate(labels):\n",
    "        x, y = low_dim_embs[i, :]\n",
    "        plt.scatter(x, y)\n",
    "        plt.annotate(label,\n",
    "                    xy=(x, y),\n",
    "                    xytext=(5, 2),\n",
    "                    textcoords='offset points',\n",
    "                    ha='right',\n",
    "                    va='bottom')\n",
    "\n",
    "    plt.savefig(filename)\n"
   ]
  },
  {
   "cell_type": "code",
   "execution_count": 53,
   "metadata": {
    "collapsed": false
   },
   "outputs": [
    {
     "data": {
      "text/plain": [
       "(50000, 128)"
      ]
     },
     "execution_count": 53,
     "metadata": {},
     "output_type": "execute_result"
    }
   ],
   "source": [
    "final_embeddings.shape"
   ]
  },
  {
   "cell_type": "code",
   "execution_count": null,
   "metadata": {
    "collapsed": true
   },
   "outputs": [],
   "source": []
  },
  {
   "cell_type": "code",
   "execution_count": 50,
   "metadata": {
    "collapsed": true
   },
   "outputs": [],
   "source": [
    "try:\n",
    "    from sklearn.manifold import TSNE\n",
    "    import matplotlib.pyplot as plt\n",
    "\n",
    "    tsne = TSNE(perplexity=30, n_components=2, init='pca', n_iter=5000)\n",
    "    plot_only = 500\n",
    "    low_dim_embs = tsne.fit_transform(final_embeddings[:plot_only, :])\n",
    "    labels = [reverse_dictionary[i] for i in xrange(plot_only)]\n",
    "    plot_with_labels(low_dim_embs, labels)\n",
    "\n",
    "except ImportError:\n",
    "    print(\"Please install sklearn, matplotlib, and scipy to visualize embeddings.\")\n"
   ]
  }
 ],
 "metadata": {
  "anaconda-cloud": {},
  "kernelspec": {
   "display_name": "Python [default]",
   "language": "python",
   "name": "python3"
  },
  "language_info": {
   "codemirror_mode": {
    "name": "ipython",
    "version": 3
   },
   "file_extension": ".py",
   "mimetype": "text/x-python",
   "name": "python",
   "nbconvert_exporter": "python",
   "pygments_lexer": "ipython3",
   "version": "3.5.2"
  }
 },
 "nbformat": 4,
 "nbformat_minor": 1
}
